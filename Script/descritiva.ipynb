{
 "cells": [
  {
   "cell_type": "code",
   "execution_count": 1,
   "id": "bd14a9bb",
   "metadata": {},
   "outputs": [],
   "source": [
    "import numpy as np\n",
    "import pandas as pd\n",
    "from sklearn.linear_model import LinearRegression\n",
    "from tabulate import tabulate\n",
    "import plotly.express as px"
   ]
  },
  {
   "cell_type": "code",
   "execution_count": 2,
   "id": "759730e6",
   "metadata": {},
   "outputs": [],
   "source": [
    "# Estatísticas descritivas:\n",
    "# 1. Dados\n",
    "hora = np.array(['09:00', '10:00', '11:00', '12:00', '13:00', '14:00', '15:00', '16:00', '17:00', '18:00'])\n",
    "usuarios = np.array([10, 12, 15, 25, 22, 18, 15, 20, 28, 30])\n",
    "spu = np.array([20.0, 25.2, 30.0, 45.1, 42.7, 33.6, 31.5, 45.0, 53.1, 60.2])"
   ]
  },
  {
   "cell_type": "code",
   "execution_count": 3,
   "id": "7c9743c1",
   "metadata": {},
   "outputs": [
    {
     "name": "stdout",
     "output_type": "stream",
     "text": [
      "Média usuários: 19.50\n",
      "Média CPU: 38.64\n",
      "Mediana usuários: 19.00\n",
      "Mediana CPU: 38.15\n",
      "Desvio padrão populacional (usuários): 6.39\n",
      "Desvio padrão populacional (CPU): 12.05\n",
      "Desvio padrão amostral (usuários): 6.74\n",
      "Desvio padrão amostral (CPU): 12.70\n"
     ]
    }
   ],
   "source": [
    "# média\n",
    "print(f\"Média usuários: {np.mean(usuarios):.2f}\")\n",
    "print(f\"Média CPU: {np.mean(spu):.2f}\")\n",
    "\n",
    "# mediana\n",
    "print(f\"Mediana usuários: {np.median(usuarios):.2f}\")\n",
    "print(f\"Mediana CPU: {np.median(spu):.2f}\")\n",
    "\n",
    "# desvio padrão - populacional\n",
    "print(f\"Desvio padrão populacional (usuários): {np.std(usuarios):.2f}\")\n",
    "print(f\"Desvio padrão populacional (CPU): {np.std(spu):.2f}\")\n",
    "\n",
    "# desvio padrão - amostral (ddof=1)\n",
    "print(f\"Desvio padrão amostral (usuários): {np.std(usuarios, ddof=1):.2f}\")\n",
    "print(f\"Desvio padrão amostral (CPU): {np.std(spu, ddof=1):.2f}\")"
   ]
  },
  {
   "cell_type": "code",
   "execution_count": 4,
   "id": "cd6125fe",
   "metadata": {},
   "outputs": [],
   "source": [
    "# Análise de equações lineares:\n",
    "# 2. Criar DataFrame e mostrar tabela\n",
    "df = pd.DataFrame({\n",
    "    \"Hora\": hora,\n",
    "    \"Usuarios\": usuarios.flatten(),\n",
    "    \"CPU (%)\": spu\n",
    "})"
   ]
  },
  {
   "cell_type": "code",
   "execution_count": 5,
   "id": "e654c7fe",
   "metadata": {},
   "outputs": [
    {
     "name": "stdout",
     "output_type": "stream",
     "text": [
      "\n",
      "Equação linear: C = 2.62 + 1.85 * U\n",
      "\n",
      "Tabela com CPU prevista pela regressão:\n",
      "╒════════╤════════════╤═══════════╤════════════════╕\n",
      "│ Hora   │   Usuarios │   CPU (%) │   CPU_Prevista │\n",
      "╞════════╪════════════╪═══════════╪════════════════╡\n",
      "│ 09:00  │         10 │      20   │        21.0912 │\n",
      "├────────┼────────────┼───────────┼────────────────┤\n",
      "│ 10:00  │         12 │      25.2 │        24.7857 │\n",
      "├────────┼────────────┼───────────┼────────────────┤\n",
      "│ 11:00  │         15 │      30   │        30.3274 │\n",
      "├────────┼────────────┼───────────┼────────────────┤\n",
      "│ 12:00  │         25 │      45.1 │        48.7999 │\n",
      "├────────┼────────────┼───────────┼────────────────┤\n",
      "│ 13:00  │         22 │      42.7 │        43.2581 │\n",
      "├────────┼────────────┼───────────┼────────────────┤\n",
      "│ 14:00  │         18 │      33.6 │        35.8691 │\n",
      "├────────┼────────────┼───────────┼────────────────┤\n",
      "│ 15:00  │         15 │      31.5 │        30.3274 │\n",
      "├────────┼────────────┼───────────┼────────────────┤\n",
      "│ 16:00  │         20 │      45   │        39.5636 │\n",
      "├────────┼────────────┼───────────┼────────────────┤\n",
      "│ 17:00  │         28 │      53.1 │        54.3416 │\n",
      "├────────┼────────────┼───────────┼────────────────┤\n",
      "│ 18:00  │         30 │      60.2 │        58.0361 │\n",
      "╘════════╧════════════╧═══════════╧════════════════╛\n"
     ]
    }
   ],
   "source": [
    "# Transformar 'usuarios' em 2D\n",
    "X = usuarios.reshape(-1, 1)\n",
    "y = spu  # CPU (%)\n",
    "\n",
    "# Criar e treinar o modelo\n",
    "modelo = LinearRegression()\n",
    "modelo.fit(X, y)\n",
    "\n",
    "# Coeficientes da equação\n",
    "inclinação = modelo.coef_[0]\n",
    "intercepto = modelo.intercept_\n",
    "print(f\"\\nEquação linear: C = {intercepto:.2f} + {inclinação:.2f} * U\")\n",
    "\n",
    "# Adicionar coluna com previsões\n",
    "df[\"CPU_Prevista\"] = modelo.predict(X)\n",
    "\n",
    "# Mostrar tabela com previsões\n",
    "from tabulate import tabulate\n",
    "print(\"\\nTabela com CPU prevista pela regressão:\")\n",
    "print(tabulate(df, headers='keys', tablefmt='fancy_grid', showindex=False))\n"
   ]
  },
  {
   "cell_type": "code",
   "execution_count": 6,
   "id": "bdb9da41",
   "metadata": {},
   "outputs": [
    {
     "name": "stdout",
     "output_type": "stream",
     "text": [
      "\n",
      "Previsão do uso da CPU às 19:00 com 20 usuários ativos: 39.56%\n"
     ]
    }
   ],
   "source": [
    "# 4. Previsão para 20 usuários ativos\n",
    "usuarios_19h = 20\n",
    "cpu_prevista_19h = modelo.predict([[usuarios_19h]])[0]\n",
    "print(f\"\\nPrevisão do uso da CPU às 19:00 com {usuarios_19h} usuários ativos: {cpu_prevista_19h:.2f}%\")"
   ]
  },
  {
   "cell_type": "code",
   "execution_count": 7,
   "id": "7f7eb56e",
   "metadata": {},
   "outputs": [
    {
     "data": {
      "application/vnd.plotly.v1+json": {
       "config": {
        "plotlyServerURL": "https://plot.ly"
       },
       "data": [
        {
         "hovertemplate": "Usuários Ativos=%{x}<br>Uso da CPU (%)=%{y}<extra></extra>",
         "legendgroup": "",
         "marker": {
          "color": "#636efa",
          "symbol": "circle"
         },
         "mode": "markers",
         "name": "",
         "orientation": "v",
         "showlegend": false,
         "type": "scatter",
         "x": {
          "bdata": "CgwPGRYSDxQcHg==",
          "dtype": "i1"
         },
         "xaxis": "x",
         "y": {
          "bdata": "AAAAAAAANEAzMzMzMzM5QAAAAAAAAD5AzczMzMyMRkCamZmZmVlFQM3MzMzMzEBAAAAAAACAP0AAAAAAAIBGQM3MzMzMjEpAmpmZmZkZTkA=",
          "dtype": "f8"
         },
         "yaxis": "y"
        },
        {
         "line": {
          "color": "red"
         },
         "mode": "lines",
         "name": "Linha de Ajuste",
         "type": "scatter",
         "x": {
          "bdata": "CgwPGRYSDxQcHg==",
          "dtype": "i1"
         },
         "y": {
          "bdata": "m6jUcVYXNUCCPt2sIMk4QFwfagXQUz5AcIZKlmFmSEACFgTqCaFFQByA+64/70FAXB9qBdBTPkAPy3/MJMhDQN32kEK5K0tA0EEVYJ4ETUA=",
          "dtype": "f8"
         }
        },
        {
         "marker": {
          "color": "green",
          "size": 12
         },
         "mode": "markers+text",
         "name": "Previsão 19:00",
         "text": [
          "39.56%"
         ],
         "textposition": "top center",
         "type": "scatter",
         "x": [
          20
         ],
         "y": [
          39.56362301101591
         ]
        }
       ],
       "layout": {
        "legend": {
         "tracegroupgap": 0
        },
        "template": {
         "data": {
          "bar": [
           {
            "error_x": {
             "color": "#2a3f5f"
            },
            "error_y": {
             "color": "#2a3f5f"
            },
            "marker": {
             "line": {
              "color": "#E5ECF6",
              "width": 0.5
             },
             "pattern": {
              "fillmode": "overlay",
              "size": 10,
              "solidity": 0.2
             }
            },
            "type": "bar"
           }
          ],
          "barpolar": [
           {
            "marker": {
             "line": {
              "color": "#E5ECF6",
              "width": 0.5
             },
             "pattern": {
              "fillmode": "overlay",
              "size": 10,
              "solidity": 0.2
             }
            },
            "type": "barpolar"
           }
          ],
          "carpet": [
           {
            "aaxis": {
             "endlinecolor": "#2a3f5f",
             "gridcolor": "white",
             "linecolor": "white",
             "minorgridcolor": "white",
             "startlinecolor": "#2a3f5f"
            },
            "baxis": {
             "endlinecolor": "#2a3f5f",
             "gridcolor": "white",
             "linecolor": "white",
             "minorgridcolor": "white",
             "startlinecolor": "#2a3f5f"
            },
            "type": "carpet"
           }
          ],
          "choropleth": [
           {
            "colorbar": {
             "outlinewidth": 0,
             "ticks": ""
            },
            "type": "choropleth"
           }
          ],
          "contour": [
           {
            "colorbar": {
             "outlinewidth": 0,
             "ticks": ""
            },
            "colorscale": [
             [
              0,
              "#0d0887"
             ],
             [
              0.1111111111111111,
              "#46039f"
             ],
             [
              0.2222222222222222,
              "#7201a8"
             ],
             [
              0.3333333333333333,
              "#9c179e"
             ],
             [
              0.4444444444444444,
              "#bd3786"
             ],
             [
              0.5555555555555556,
              "#d8576b"
             ],
             [
              0.6666666666666666,
              "#ed7953"
             ],
             [
              0.7777777777777778,
              "#fb9f3a"
             ],
             [
              0.8888888888888888,
              "#fdca26"
             ],
             [
              1,
              "#f0f921"
             ]
            ],
            "type": "contour"
           }
          ],
          "contourcarpet": [
           {
            "colorbar": {
             "outlinewidth": 0,
             "ticks": ""
            },
            "type": "contourcarpet"
           }
          ],
          "heatmap": [
           {
            "colorbar": {
             "outlinewidth": 0,
             "ticks": ""
            },
            "colorscale": [
             [
              0,
              "#0d0887"
             ],
             [
              0.1111111111111111,
              "#46039f"
             ],
             [
              0.2222222222222222,
              "#7201a8"
             ],
             [
              0.3333333333333333,
              "#9c179e"
             ],
             [
              0.4444444444444444,
              "#bd3786"
             ],
             [
              0.5555555555555556,
              "#d8576b"
             ],
             [
              0.6666666666666666,
              "#ed7953"
             ],
             [
              0.7777777777777778,
              "#fb9f3a"
             ],
             [
              0.8888888888888888,
              "#fdca26"
             ],
             [
              1,
              "#f0f921"
             ]
            ],
            "type": "heatmap"
           }
          ],
          "histogram": [
           {
            "marker": {
             "pattern": {
              "fillmode": "overlay",
              "size": 10,
              "solidity": 0.2
             }
            },
            "type": "histogram"
           }
          ],
          "histogram2d": [
           {
            "colorbar": {
             "outlinewidth": 0,
             "ticks": ""
            },
            "colorscale": [
             [
              0,
              "#0d0887"
             ],
             [
              0.1111111111111111,
              "#46039f"
             ],
             [
              0.2222222222222222,
              "#7201a8"
             ],
             [
              0.3333333333333333,
              "#9c179e"
             ],
             [
              0.4444444444444444,
              "#bd3786"
             ],
             [
              0.5555555555555556,
              "#d8576b"
             ],
             [
              0.6666666666666666,
              "#ed7953"
             ],
             [
              0.7777777777777778,
              "#fb9f3a"
             ],
             [
              0.8888888888888888,
              "#fdca26"
             ],
             [
              1,
              "#f0f921"
             ]
            ],
            "type": "histogram2d"
           }
          ],
          "histogram2dcontour": [
           {
            "colorbar": {
             "outlinewidth": 0,
             "ticks": ""
            },
            "colorscale": [
             [
              0,
              "#0d0887"
             ],
             [
              0.1111111111111111,
              "#46039f"
             ],
             [
              0.2222222222222222,
              "#7201a8"
             ],
             [
              0.3333333333333333,
              "#9c179e"
             ],
             [
              0.4444444444444444,
              "#bd3786"
             ],
             [
              0.5555555555555556,
              "#d8576b"
             ],
             [
              0.6666666666666666,
              "#ed7953"
             ],
             [
              0.7777777777777778,
              "#fb9f3a"
             ],
             [
              0.8888888888888888,
              "#fdca26"
             ],
             [
              1,
              "#f0f921"
             ]
            ],
            "type": "histogram2dcontour"
           }
          ],
          "mesh3d": [
           {
            "colorbar": {
             "outlinewidth": 0,
             "ticks": ""
            },
            "type": "mesh3d"
           }
          ],
          "parcoords": [
           {
            "line": {
             "colorbar": {
              "outlinewidth": 0,
              "ticks": ""
             }
            },
            "type": "parcoords"
           }
          ],
          "pie": [
           {
            "automargin": true,
            "type": "pie"
           }
          ],
          "scatter": [
           {
            "fillpattern": {
             "fillmode": "overlay",
             "size": 10,
             "solidity": 0.2
            },
            "type": "scatter"
           }
          ],
          "scatter3d": [
           {
            "line": {
             "colorbar": {
              "outlinewidth": 0,
              "ticks": ""
             }
            },
            "marker": {
             "colorbar": {
              "outlinewidth": 0,
              "ticks": ""
             }
            },
            "type": "scatter3d"
           }
          ],
          "scattercarpet": [
           {
            "marker": {
             "colorbar": {
              "outlinewidth": 0,
              "ticks": ""
             }
            },
            "type": "scattercarpet"
           }
          ],
          "scattergeo": [
           {
            "marker": {
             "colorbar": {
              "outlinewidth": 0,
              "ticks": ""
             }
            },
            "type": "scattergeo"
           }
          ],
          "scattergl": [
           {
            "marker": {
             "colorbar": {
              "outlinewidth": 0,
              "ticks": ""
             }
            },
            "type": "scattergl"
           }
          ],
          "scattermap": [
           {
            "marker": {
             "colorbar": {
              "outlinewidth": 0,
              "ticks": ""
             }
            },
            "type": "scattermap"
           }
          ],
          "scattermapbox": [
           {
            "marker": {
             "colorbar": {
              "outlinewidth": 0,
              "ticks": ""
             }
            },
            "type": "scattermapbox"
           }
          ],
          "scatterpolar": [
           {
            "marker": {
             "colorbar": {
              "outlinewidth": 0,
              "ticks": ""
             }
            },
            "type": "scatterpolar"
           }
          ],
          "scatterpolargl": [
           {
            "marker": {
             "colorbar": {
              "outlinewidth": 0,
              "ticks": ""
             }
            },
            "type": "scatterpolargl"
           }
          ],
          "scatterternary": [
           {
            "marker": {
             "colorbar": {
              "outlinewidth": 0,
              "ticks": ""
             }
            },
            "type": "scatterternary"
           }
          ],
          "surface": [
           {
            "colorbar": {
             "outlinewidth": 0,
             "ticks": ""
            },
            "colorscale": [
             [
              0,
              "#0d0887"
             ],
             [
              0.1111111111111111,
              "#46039f"
             ],
             [
              0.2222222222222222,
              "#7201a8"
             ],
             [
              0.3333333333333333,
              "#9c179e"
             ],
             [
              0.4444444444444444,
              "#bd3786"
             ],
             [
              0.5555555555555556,
              "#d8576b"
             ],
             [
              0.6666666666666666,
              "#ed7953"
             ],
             [
              0.7777777777777778,
              "#fb9f3a"
             ],
             [
              0.8888888888888888,
              "#fdca26"
             ],
             [
              1,
              "#f0f921"
             ]
            ],
            "type": "surface"
           }
          ],
          "table": [
           {
            "cells": {
             "fill": {
              "color": "#EBF0F8"
             },
             "line": {
              "color": "white"
             }
            },
            "header": {
             "fill": {
              "color": "#C8D4E3"
             },
             "line": {
              "color": "white"
             }
            },
            "type": "table"
           }
          ]
         },
         "layout": {
          "annotationdefaults": {
           "arrowcolor": "#2a3f5f",
           "arrowhead": 0,
           "arrowwidth": 1
          },
          "autotypenumbers": "strict",
          "coloraxis": {
           "colorbar": {
            "outlinewidth": 0,
            "ticks": ""
           }
          },
          "colorscale": {
           "diverging": [
            [
             0,
             "#8e0152"
            ],
            [
             0.1,
             "#c51b7d"
            ],
            [
             0.2,
             "#de77ae"
            ],
            [
             0.3,
             "#f1b6da"
            ],
            [
             0.4,
             "#fde0ef"
            ],
            [
             0.5,
             "#f7f7f7"
            ],
            [
             0.6,
             "#e6f5d0"
            ],
            [
             0.7,
             "#b8e186"
            ],
            [
             0.8,
             "#7fbc41"
            ],
            [
             0.9,
             "#4d9221"
            ],
            [
             1,
             "#276419"
            ]
           ],
           "sequential": [
            [
             0,
             "#0d0887"
            ],
            [
             0.1111111111111111,
             "#46039f"
            ],
            [
             0.2222222222222222,
             "#7201a8"
            ],
            [
             0.3333333333333333,
             "#9c179e"
            ],
            [
             0.4444444444444444,
             "#bd3786"
            ],
            [
             0.5555555555555556,
             "#d8576b"
            ],
            [
             0.6666666666666666,
             "#ed7953"
            ],
            [
             0.7777777777777778,
             "#fb9f3a"
            ],
            [
             0.8888888888888888,
             "#fdca26"
            ],
            [
             1,
             "#f0f921"
            ]
           ],
           "sequentialminus": [
            [
             0,
             "#0d0887"
            ],
            [
             0.1111111111111111,
             "#46039f"
            ],
            [
             0.2222222222222222,
             "#7201a8"
            ],
            [
             0.3333333333333333,
             "#9c179e"
            ],
            [
             0.4444444444444444,
             "#bd3786"
            ],
            [
             0.5555555555555556,
             "#d8576b"
            ],
            [
             0.6666666666666666,
             "#ed7953"
            ],
            [
             0.7777777777777778,
             "#fb9f3a"
            ],
            [
             0.8888888888888888,
             "#fdca26"
            ],
            [
             1,
             "#f0f921"
            ]
           ]
          },
          "colorway": [
           "#636efa",
           "#EF553B",
           "#00cc96",
           "#ab63fa",
           "#FFA15A",
           "#19d3f3",
           "#FF6692",
           "#B6E880",
           "#FF97FF",
           "#FECB52"
          ],
          "font": {
           "color": "#2a3f5f"
          },
          "geo": {
           "bgcolor": "white",
           "lakecolor": "white",
           "landcolor": "#E5ECF6",
           "showlakes": true,
           "showland": true,
           "subunitcolor": "white"
          },
          "hoverlabel": {
           "align": "left"
          },
          "hovermode": "closest",
          "mapbox": {
           "style": "light"
          },
          "paper_bgcolor": "white",
          "plot_bgcolor": "#E5ECF6",
          "polar": {
           "angularaxis": {
            "gridcolor": "white",
            "linecolor": "white",
            "ticks": ""
           },
           "bgcolor": "#E5ECF6",
           "radialaxis": {
            "gridcolor": "white",
            "linecolor": "white",
            "ticks": ""
           }
          },
          "scene": {
           "xaxis": {
            "backgroundcolor": "#E5ECF6",
            "gridcolor": "white",
            "gridwidth": 2,
            "linecolor": "white",
            "showbackground": true,
            "ticks": "",
            "zerolinecolor": "white"
           },
           "yaxis": {
            "backgroundcolor": "#E5ECF6",
            "gridcolor": "white",
            "gridwidth": 2,
            "linecolor": "white",
            "showbackground": true,
            "ticks": "",
            "zerolinecolor": "white"
           },
           "zaxis": {
            "backgroundcolor": "#E5ECF6",
            "gridcolor": "white",
            "gridwidth": 2,
            "linecolor": "white",
            "showbackground": true,
            "ticks": "",
            "zerolinecolor": "white"
           }
          },
          "shapedefaults": {
           "line": {
            "color": "#2a3f5f"
           }
          },
          "ternary": {
           "aaxis": {
            "gridcolor": "white",
            "linecolor": "white",
            "ticks": ""
           },
           "baxis": {
            "gridcolor": "white",
            "linecolor": "white",
            "ticks": ""
           },
           "bgcolor": "#E5ECF6",
           "caxis": {
            "gridcolor": "white",
            "linecolor": "white",
            "ticks": ""
           }
          },
          "title": {
           "x": 0.05
          },
          "xaxis": {
           "automargin": true,
           "gridcolor": "white",
           "linecolor": "white",
           "ticks": "",
           "title": {
            "standoff": 15
           },
           "zerolinecolor": "white",
           "zerolinewidth": 2
          },
          "yaxis": {
           "automargin": true,
           "gridcolor": "white",
           "linecolor": "white",
           "ticks": "",
           "title": {
            "standoff": 15
           },
           "zerolinecolor": "white",
           "zerolinewidth": 2
          }
         }
        },
        "title": {
         "text": "Relação entre Usuários Ativos e Uso da CPU"
        },
        "xaxis": {
         "anchor": "y",
         "domain": [
          0,
          1
         ],
         "title": {
          "text": "Usuários Ativos"
         }
        },
        "yaxis": {
         "anchor": "x",
         "domain": [
          0,
          1
         ],
         "title": {
          "text": "Uso da CPU (%)"
         }
        }
       }
      }
     },
     "metadata": {},
     "output_type": "display_data"
    }
   ],
   "source": [
    "# Modelo de previsão:\n",
    "# 5. Gráfico interativo Plotly\n",
    "fig = px.scatter(df, x=\"Usuarios\", y=\"CPU (%)\",\n",
    "                 title=\"Relação entre Usuários Ativos e Uso da CPU\",\n",
    "                 labels={\"Usuarios\": \"Usuários Ativos\", \"CPU (%)\": \"Uso da CPU (%)\"})\n",
    "\n",
    "# Adicionar linha de regressão\n",
    "fig.add_scatter(x=df[\"Usuarios\"], y=df[\"CPU_Prevista\"], mode=\"lines\", name=\"Linha de Ajuste\", line=dict(color=\"red\"))\n",
    "\n",
    "# Adicionar ponto de previsão às 19:00\n",
    "fig.add_scatter(x=[usuarios_19h], y=[cpu_prevista_19h], mode=\"markers+text\",\n",
    "                name=\"Previsão 19:00\", text=[f\"{cpu_prevista_19h:.2f}%\"], textposition=\"top center\",\n",
    "                marker=dict(size=12, color=\"green\"))\n",
    "\n",
    "fig.show()"
   ]
  },
  {
   "cell_type": "code",
   "execution_count": 8,
   "id": "334af9dd",
   "metadata": {},
   "outputs": [],
   "source": [
    "# Análise de equações não lineares:\n",
    "# Mesmo que uma regressão linear dê uma boa aproximação inicial, o comportamento real da CPU pode ser curvo, principalmente em horários de pico ou quando a quantidade de usuários aumenta muito."
   ]
  },
  {
   "cell_type": "code",
   "execution_count": 9,
   "id": "fbe27633",
   "metadata": {},
   "outputs": [],
   "source": [
    "# !pip install --upgrade nbformat\n",
    "# !pip install --upgrade plotly ipython"
   ]
  }
 ],
 "metadata": {
  "kernelspec": {
   "display_name": "venv",
   "language": "python",
   "name": "python3"
  },
  "language_info": {
   "codemirror_mode": {
    "name": "ipython",
    "version": 3
   },
   "file_extension": ".py",
   "mimetype": "text/x-python",
   "name": "python",
   "nbconvert_exporter": "python",
   "pygments_lexer": "ipython3",
   "version": "3.13.7"
  }
 },
 "nbformat": 4,
 "nbformat_minor": 5
}
